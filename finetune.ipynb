{
 "cells": [
  {
   "cell_type": "code",
   "execution_count": null,
   "id": "cc2d6613",
   "metadata": {},
   "outputs": [],
   "source": []
  },
  {
   "cell_type": "markdown",
   "id": "e9ea897b",
   "metadata": {},
   "source": [
    "# Fine-Tuning Setup\n",
    "\n",
    "This notebook contains the steps to fine-tune a pre-trained model on the soccer tactics dataset."
   ]
  },
  {
   "cell_type": "code",
   "execution_count": null,
   "id": "2c86912d",
   "metadata": {},
   "outputs": [],
   "source": [
    "# Import Required Libraries\n",
    "from transformers import AutoTokenizer, AutoModelForSequenceClassification, Trainer, TrainingArguments\n",
    "from datasets import load_dataset\n",
    "import torch\n",
    "\n",
    "# Check if GPU is available\n",
    "device = torch.device('cuda' if torch.cuda.is_available() else 'cpu')\n",
    "print(f\"Using device: {device}\")"
   ]
  },
  {
   "cell_type": "code",
   "execution_count": null,
   "id": "7ef470e7",
   "metadata": {},
   "outputs": [],
   "source": [
    "# Install gdown to download files from Google Drive\n",
    "!pip install gdown"
   ]
  },
  {
   "cell_type": "code",
   "execution_count": null,
   "id": "0255f8e1",
   "metadata": {},
   "outputs": [],
   "source": [
    "# Download dataset from Google Drive\n",
    "import os\n",
    "\n",
    "# Create a directory to store the dataset\n",
    "os.makedirs('data', exist_ok=True)\n",
    "\n",
    "# Use gdown to download files from the shared Google Drive folder\n",
    "!gdown --folder https://drive.google.com/drive/folders/1izgyjcd4k6V7txzYcgtx5-cDzTdfRAmN?usp=drive_link -O data\n",
    "\n",
    "print(\"Dataset downloaded and saved to 'data' folder.\")"
   ]
  },
  {
   "cell_type": "code",
   "execution_count": null,
   "id": "b8232246",
   "metadata": {},
   "outputs": [],
   "source": [
    " "
   ]
  },
  {
   "cell_type": "code",
   "execution_count": null,
   "id": "426680aa",
   "metadata": {},
   "outputs": [],
   "source": [
    "# Define Model and Tokenizer\n",
    "model_name = 'unsunsloth/Qwen3-4B-Instruct-2507-GGUFloth'\n",
    "tokenizer = AutoTokenizer.from_pretrained(model_name)\n",
    "model = AutoModelForSequenceClassification.from_pretrained(model_name, num_labels=2).to(device)"
   ]
  },
  {
   "cell_type": "code",
   "execution_count": null,
   "id": "ea8662ad",
   "metadata": {},
   "outputs": [],
   "source": [
    "# Preprocess Data\n",
    "def preprocess_function(examples):\n",
    "    return tokenizer(examples['text'], truncation=True, padding='max_length', max_length=512)\n",
    "\n",
    "tokenized_datasets = dataset.map(preprocess_function, batched=True)"
   ]
  },
  {
   "cell_type": "code",
   "execution_count": null,
   "id": "f1b9d310",
   "metadata": {},
   "outputs": [],
   "source": [
    "# Fine-Tune the Model using unsloth\n",
    "from unsloth import Trainer as UnslothTrainer, TrainingArguments as UnslothTrainingArguments\n",
    "\n",
    "training_args = UnslothTrainingArguments(\n",
    "    output_dir='./results',\n",
    "    evaluation_strategy='epoch',\n",
    "    learning_rate=2e-5,\n",
    "    per_device_train_batch_size=8,\n",
    "    per_device_eval_batch_size=8,\n",
    "    num_train_epochs=3,\n",
    "    weight_decay=0.01,\n",
    "    save_total_limit=2,\n",
    "    load_best_model_at_end=True,\n",
    "    logging_dir='./logs',\n",
    ")\n",
    "\n",
    "trainer = UnslothTrainer(\n",
    "    model=model,\n",
    "    args=training_args,\n",
    "    train_dataset=tokenized_datasets['train'],\n",
    "    eval_dataset=tokenized_datasets['validation'],\n",
    "    tokenizer=tokenizer,\n",
    ")\n",
    "\n",
    "trainer.train()"
   ]
  },
  {
   "cell_type": "code",
   "execution_count": null,
   "id": "89092c1f",
   "metadata": {},
   "outputs": [],
   "source": [
    "# Save the Fine-Tuned Model\n",
    "model.save_pretrained('./fine_tuned_model')\n",
    "tokenizer.save_pretrained('./fine_tuned_model')"
   ]
  }
 ],
 "metadata": {
  "kernelspec": {
   "display_name": "venv",
   "language": "python",
   "name": "python3"
  },
  "language_info": {
   "name": "python",
   "version": "3.13.7"
  }
 },
 "nbformat": 4,
 "nbformat_minor": 5
}
